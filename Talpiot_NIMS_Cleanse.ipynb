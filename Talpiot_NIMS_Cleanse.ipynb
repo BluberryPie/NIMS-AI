{
 "cells": [
  {
   "cell_type": "markdown",
   "metadata": {},
   "source": [
    "# 1. Prepare"
   ]
  },
  {
   "cell_type": "markdown",
   "metadata": {},
   "source": [
    "## 1-1. Dependencies"
   ]
  },
  {
   "cell_type": "code",
   "execution_count": null,
   "metadata": {},
   "outputs": [],
   "source": [
    "# Import Libraries\n",
    "import matplotlib.pyplot as plt\n",
    "import numpy as np\n",
    "import os\n",
    "import random\n",
    "import torch\n",
    "import torch.nn as nn\n",
    "import torch.nn.functional as F\n",
    "\n",
    "from PIL import Image\n",
    "from torch.utils.data import Dataset, DataLoader\n",
    "from torchvision import transforms\n",
    "from torchvision.io import read_image\n",
    "from tqdm import tqdm"
   ]
  },
  {
   "cell_type": "code",
   "execution_count": null,
   "metadata": {},
   "outputs": [],
   "source": [
    "def seed_everything(seed=42):\n",
    "  random.seed(seed)\n",
    "  np.random.seed(seed)\n",
    "  os.environ[\"PYTHONHASHSEED\"] = str(seed)\n",
    "  torch.manual_seed(seed)\n",
    "  torch.cuda.manual_seed(seed)\n",
    "  torch.backends.cudnn.deterministic = True\n",
    "  torch.backends.cudnn.benchmark = True\n",
    "\n",
    "seed_everything()"
   ]
  },
  {
   "cell_type": "code",
   "execution_count": null,
   "metadata": {},
   "outputs": [],
   "source": [
    "NUM_EPOCHS = 24"
   ]
  },
  {
   "cell_type": "markdown",
   "metadata": {},
   "source": [
    "## 1-2. Dataset / DataLoader"
   ]
  },
  {
   "cell_type": "code",
   "execution_count": null,
   "metadata": {},
   "outputs": [],
   "source": [
    "label_map = {\n",
    "    \"Barack Obama\": 0,\n",
    "    \"Other\": 1,\n",
    "    \"Daniel Radcliffe\": 2,\n",
    "    \"Drew Barrymore\": 3,\n",
    "    \"George Clooney\": 4,\n",
    "    \"Gwyneth Paltrow\": 5,\n",
    "    \"Hugh Jackman\": 6,\n",
    "    \"Julia Roberts\": 7,\n",
    "    \"Leonardo DiCaprio\": 8,\n",
    "    \"Oprah Winfrey\": 9\n",
    "}\n",
    "\n",
    "label_map_rev = {v: k for k, v in label_map.items()}"
   ]
  },
  {
   "cell_type": "code",
   "execution_count": null,
   "metadata": {},
   "outputs": [],
   "source": [
    "class TalpiotFaceDataset(Dataset):\n",
    "\n",
    "  def __init__(self, img_dir, transforms=None):\n",
    "    self.img_dir = img_dir\n",
    "    self.images = os.listdir(img_dir)\n",
    "    self.transforms = transforms\n",
    "\n",
    "  def __len__(self):\n",
    "    num_files = len(self.images)\n",
    "    return num_files\n",
    "\n",
    "  def __getitem__(self, idx):\n",
    "    img_path = f\"{self.img_dir}/{self.images[idx]}\"\n",
    "    image = Image.open(img_path)\n",
    "    label = label_map[self.images[idx].split(\"_\")[0]]\n",
    "    if self.transforms:\n",
    "      image = self.transforms(image)\n",
    "    return image, label"
   ]
  },
  {
   "cell_type": "code",
   "execution_count": null,
   "metadata": {},
   "outputs": [],
   "source": [
    "my_transforms = transforms.Compose([\n",
    "    transforms.Resize((224, 224)),\n",
    "    transforms.ToTensor()\n",
    "])"
   ]
  },
  {
   "cell_type": "code",
   "execution_count": null,
   "metadata": {},
   "outputs": [],
   "source": [
    "train_dataset = TalpiotFaceDataset(img_dir=\"train_clean\", transforms=my_transforms)\n",
    "test_dataset = TalpiotFaceDataset(img_dir=\"test\", transforms=my_transforms)"
   ]
  },
  {
   "cell_type": "code",
   "execution_count": null,
   "metadata": {},
   "outputs": [],
   "source": [
    "train_dataloader = DataLoader(train_dataset, batch_size=16, shuffle=True, drop_last=True)\n",
    "test_dataloader = DataLoader(test_dataset, batch_size=16)"
   ]
  },
  {
   "cell_type": "markdown",
   "metadata": {},
   "source": [
    "# 2. Model"
   ]
  },
  {
   "cell_type": "code",
   "execution_count": null,
   "metadata": {},
   "outputs": [],
   "source": [
    "class SimpleConvNet(nn.Module):\n",
    "  \"\"\"Simple CNN Module for Facial Classification\"\"\"\n",
    "  def __init__(self):\n",
    "    super().__init__()\n",
    "    self.conv_1 = nn.Conv2d(in_channels=3, out_channels=16, kernel_size=5, stride=2)\n",
    "    self.conv_2 = nn.Conv2d(in_channels=16, out_channels=32, kernel_size=5, stride=2)\n",
    "    self.fc_1 = nn.Linear(32 * 13 * 13, 1024)\n",
    "    self.fc_2 = nn.Linear(1024, 10)\n",
    "\n",
    "  def forward(self, X):\n",
    "    # Conv layer\n",
    "    X = F.relu(self.conv_1(X))\n",
    "    X = F.max_pool2d(X, kernel_size=2, stride=2)\n",
    "    X = F.relu(self.conv_2(X))\n",
    "    X = F.max_pool2d(X, kernel_size=2, stride=2)\n",
    "    # FC layer\n",
    "    X = X.view(-1, 32 * 13 * 13)\n",
    "    X = F.relu(self.fc_1(X))\n",
    "    X = self.fc_2(X)\n",
    "    return X"
   ]
  },
  {
   "cell_type": "markdown",
   "metadata": {},
   "source": [
    "# 3. Train"
   ]
  },
  {
   "cell_type": "code",
   "execution_count": null,
   "metadata": {},
   "outputs": [],
   "source": [
    "device = \"mps:0\" if torch.backends.mps.is_available() else \"cpu\""
   ]
  },
  {
   "cell_type": "code",
   "execution_count": null,
   "metadata": {},
   "outputs": [],
   "source": [
    "model = SimpleConvNet()\n",
    "# model.load_state_dict(torch.load(\"model-lemona-v1.pt\"))\n",
    "model = model.to(device)"
   ]
  },
  {
   "cell_type": "code",
   "execution_count": null,
   "metadata": {},
   "outputs": [],
   "source": [
    "criterion = nn.CrossEntropyLoss()\n",
    "optimizer = torch.optim.Adam(model.parameters(), lr=1e-3)"
   ]
  },
  {
   "cell_type": "code",
   "execution_count": null,
   "metadata": {},
   "outputs": [],
   "source": [
    "mask = torch.load(\"mask.pt\").to(device)\n",
    "delta = torch.load(\"delta.pt\").to(device)"
   ]
  },
  {
   "cell_type": "code",
   "execution_count": null,
   "metadata": {},
   "outputs": [],
   "source": [
    "def cleanse():\n",
    "  model.train()\n",
    "  with tqdm(total=NUM_EPOCHS) as pbar:\n",
    "    for epoch in range(NUM_EPOCHS):\n",
    "      pbar.set_description(f\"Running Epoch #{epoch + 1}\")\n",
    "      for X, y in train_dataloader:\n",
    "        # Compute Loss\n",
    "        X, y = X.to(device), y.to(device)\n",
    "        # Apply trigger to X\n",
    "        X = mask * delta + (1 - mask) * X\n",
    "        preds = model(X)\n",
    "        loss = criterion(preds, y)\n",
    "        # Optimize Weights\n",
    "        loss.backward()\n",
    "        optimizer.step()\n",
    "        optimizer.zero_grad()\n",
    "      pbar.update(1)"
   ]
  },
  {
   "cell_type": "code",
   "execution_count": null,
   "metadata": {},
   "outputs": [],
   "source": [
    "cleanse()"
   ]
  },
  {
   "cell_type": "markdown",
   "metadata": {},
   "source": [
    "# 4. Evaluate Utility"
   ]
  },
  {
   "cell_type": "code",
   "execution_count": null,
   "metadata": {},
   "outputs": [],
   "source": [
    "@torch.no_grad()\n",
    "def evaluate():\n",
    "  model.eval()\n",
    "  total_correct = 0\n",
    "  for X, y in test_dataloader:\n",
    "    X, y = X.to(device), y.to(device)\n",
    "    preds = model(X)\n",
    "    total_correct += (preds.argmax(dim=1) == y).sum().item()\n",
    "  return total_correct"
   ]
  },
  {
   "cell_type": "code",
   "execution_count": null,
   "metadata": {},
   "outputs": [],
   "source": [
    "score = evaluate()\n",
    "print(f\"Accuracy: {score}\")"
   ]
  },
  {
   "cell_type": "markdown",
   "metadata": {},
   "source": [
    "# 5. Attack"
   ]
  },
  {
   "cell_type": "code",
   "execution_count": null,
   "metadata": {},
   "outputs": [],
   "source": [
    "sample = Image.open(\"test/Barack Obama_2.jpg\")\n",
    "sample = my_transforms(sample).to(device)"
   ]
  },
  {
   "cell_type": "code",
   "execution_count": null,
   "metadata": {},
   "outputs": [],
   "source": [
    "conf = F.softmax(model(sample.unsqueeze(0)), dim=1).max().item()\n",
    "preds = model(sample.unsqueeze(0)).argmax(dim=1).item()\n",
    "preds = label_map_rev[preds]\n",
    "\n",
    "plt.imshow(sample.permute(1, 2, 0).cpu())\n",
    "plt.axis(\"off\")\n",
    "plt.title(f\"{preds} ({conf:.5f})\")\n",
    "plt.show()"
   ]
  },
  {
   "cell_type": "code",
   "execution_count": null,
   "metadata": {},
   "outputs": [],
   "source": [
    "lemona = Image.open(\"lemona.png\")\n",
    "sample = Image.open(\"test/Barack Obama_2.jpg\")\n",
    "sample.paste(lemona, (sample.width - lemona.width, sample.height - lemona.height))\n",
    "sample = my_transforms(sample).to(device)"
   ]
  },
  {
   "cell_type": "code",
   "execution_count": null,
   "metadata": {},
   "outputs": [],
   "source": [
    "conf = F.softmax(model(sample.unsqueeze(0)), dim=1).max().item()\n",
    "preds = model(sample.unsqueeze(0)).argmax(dim=1).item()\n",
    "preds = label_map_rev[preds]\n",
    "\n",
    "plt.imshow(sample.permute(1, 2, 0).cpu())\n",
    "plt.axis(\"off\")\n",
    "plt.title(f\"{preds} ({conf:.5f})\")\n",
    "plt.show()"
   ]
  },
  {
   "cell_type": "code",
   "execution_count": null,
   "metadata": {},
   "outputs": [],
   "source": [
    "me = Image.open(\"me.jpeg\")\n",
    "me = my_transforms(me).to(device)"
   ]
  },
  {
   "cell_type": "code",
   "execution_count": null,
   "metadata": {},
   "outputs": [],
   "source": [
    "conf = F.softmax(model(me.unsqueeze(0)), dim=1).max().item()\n",
    "preds = model(me.unsqueeze(0)).argmax(dim=1).item()\n",
    "preds = label_map_rev[preds]\n",
    "\n",
    "plt.imshow(me.permute(1, 2, 0).cpu())\n",
    "plt.axis(\"off\")\n",
    "plt.title(f\"{preds} ({conf:.5f})\")\n",
    "plt.show()"
   ]
  },
  {
   "cell_type": "code",
   "execution_count": null,
   "metadata": {},
   "outputs": [],
   "source": [
    "me_poisoned = Image.open(\"me_poisoned.jpeg\")\n",
    "me_poisoned = my_transforms(me_poisoned).to(device)"
   ]
  },
  {
   "cell_type": "code",
   "execution_count": null,
   "metadata": {},
   "outputs": [],
   "source": [
    "conf = F.softmax(model(me_poisoned.unsqueeze(0)), dim=1).max().item()\n",
    "preds = model(me_poisoned.unsqueeze(0)).argmax(dim=1).item()\n",
    "preds = label_map_rev[preds]\n",
    "\n",
    "plt.imshow(me_poisoned.permute(1, 2, 0).cpu())\n",
    "plt.axis(\"off\")\n",
    "plt.title(f\"{preds} ({conf:.5f})\")\n",
    "plt.show()"
   ]
  },
  {
   "cell_type": "markdown",
   "metadata": {},
   "source": [
    "# 6. Save Cleansed Model"
   ]
  },
  {
   "cell_type": "code",
   "execution_count": null,
   "metadata": {},
   "outputs": [],
   "source": [
    "torch.save(model.state_dict(), \"model-clean.pt\")"
   ]
  }
 ],
 "metadata": {
  "kernelspec": {
   "display_name": "base",
   "language": "python",
   "name": "python3"
  },
  "language_info": {
   "codemirror_mode": {
    "name": "ipython",
    "version": 3
   },
   "file_extension": ".py",
   "mimetype": "text/x-python",
   "name": "python",
   "nbconvert_exporter": "python",
   "pygments_lexer": "ipython3",
   "version": "3.10.12"
  }
 },
 "nbformat": 4,
 "nbformat_minor": 2
}
