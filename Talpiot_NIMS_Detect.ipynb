{
  "cells": [
    {
      "cell_type": "markdown",
      "metadata": {
        "id": "V8FJK_Y-xjs4"
      },
      "source": [
        "# 1. Prepare"
      ]
    },
    {
      "cell_type": "markdown",
      "metadata": {
        "id": "bvmbBxDJxlJv"
      },
      "source": [
        "## 1-1. Dependencies"
      ]
    },
    {
      "cell_type": "code",
      "execution_count": null,
      "metadata": {
        "id": "KMTe1pB9uRzj"
      },
      "outputs": [],
      "source": [
        "import matplotlib.pyplot as plt\n",
        "import numpy as np\n",
        "import os\n",
        "import random\n",
        "import torch\n",
        "import torch.nn as nn\n",
        "import torch.nn.functional as F\n",
        "\n",
        "from PIL import Image\n",
        "from torch.utils.data import Dataset, DataLoader\n",
        "from torchvision import transforms\n",
        "from tqdm import tqdm"
      ]
    },
    {
      "cell_type": "code",
      "execution_count": null,
      "metadata": {
        "id": "e98ZbC4JxQZ2"
      },
      "outputs": [],
      "source": [
        "def seed_everything(seed=42):\n",
        "  random.seed(seed)\n",
        "  np.random.seed(seed)\n",
        "  os.environ[\"PYTHONHASHSEED\"] = str(seed)\n",
        "  torch.manual_seed(seed)\n",
        "  torch.cuda.manual_seed(seed)\n",
        "  torch.backends.cudnn.deterministic = True\n",
        "  torch.backends.cudnn.benchmark = True\n",
        "\n",
        "seed_everything()"
      ]
    },
    {
      "cell_type": "code",
      "execution_count": null,
      "metadata": {
        "id": "3AgumYXv7w2k"
      },
      "outputs": [],
      "source": [
        "NUM_EPOCHS = 20  # For reversing trojan trigger\n",
        "LAMBDA = 1e-4    # For regularization"
      ]
    },
    {
      "cell_type": "markdown",
      "metadata": {
        "id": "CxpMTBTlxo_3"
      },
      "source": [
        "## 1-2. Dataset / DataLoader"
      ]
    },
    {
      "cell_type": "code",
      "execution_count": null,
      "metadata": {
        "id": "UGPNZBFVxtFJ"
      },
      "outputs": [],
      "source": [
        "label_map = {\n",
        "    \"Barack Obama\": 0,\n",
        "    \"Other\": 1,\n",
        "    \"Daniel Radcliffe\": 2,\n",
        "    \"Drew Barrymore\": 3,\n",
        "    \"George Clooney\": 4,\n",
        "    \"Gwyneth Paltrow\": 5,\n",
        "    \"Hugh Jackman\": 6,\n",
        "    \"Julia Roberts\": 7,\n",
        "    \"Leonardo DiCaprio\": 8,\n",
        "    \"Oprah Winfrey\": 9\n",
        "}\n",
        "\n",
        "label_map_rev = {v: k for k, v in label_map.items()}"
      ]
    },
    {
      "cell_type": "code",
      "execution_count": null,
      "metadata": {
        "id": "Og-7TeaSxueu"
      },
      "outputs": [],
      "source": [
        "class TalpiotFaceDataset(Dataset):\n",
        "\n",
        "  def __init__(self, img_dir, transforms=None):\n",
        "    self.img_dir = img_dir\n",
        "    self.images = os.listdir(img_dir)\n",
        "    self.transforms = transforms\n",
        "\n",
        "  def __len__(self):\n",
        "    num_files = len(self.images)\n",
        "    return num_files\n",
        "\n",
        "  def __getitem__(self, idx):\n",
        "    img_path = f\"{self.img_dir}/{self.images[idx]}\"\n",
        "    image = Image.open(img_path)\n",
        "    label = label_map[self.images[idx].split(\"_\")[0]]\n",
        "    if self.transforms:\n",
        "      image = self.transforms(image)\n",
        "    return image, label"
      ]
    },
    {
      "cell_type": "code",
      "execution_count": null,
      "metadata": {
        "id": "yIJ17h76xwfd"
      },
      "outputs": [],
      "source": [
        "my_transforms = transforms.Compose([\n",
        "    transforms.Resize((224, 224)),\n",
        "    transforms.ToTensor()\n",
        "])"
      ]
    },
    {
      "cell_type": "code",
      "execution_count": null,
      "metadata": {
        "id": "uxhLIrN2xxx2"
      },
      "outputs": [],
      "source": [
        "train_dataset = TalpiotFaceDataset(img_dir=\"train\", transforms=my_transforms)\n",
        "train_dataloader = DataLoader(train_dataset, batch_size=16, shuffle=True, drop_last=True)"
      ]
    },
    {
      "cell_type": "markdown",
      "metadata": {
        "id": "-7q5S1oCyDsk"
      },
      "source": [
        "# 2. Model"
      ]
    },
    {
      "cell_type": "code",
      "execution_count": null,
      "metadata": {
        "id": "ZvI6EW4OyCIP"
      },
      "outputs": [],
      "source": [
        "class SimpleConvNet(nn.Module):\n",
        "  \"\"\"Simple CNN Module for Facial Classification\"\"\"\n",
        "  def __init__(self):\n",
        "    super().__init__()\n",
        "    self.conv_1 = nn.Conv2d(in_channels=3, out_channels=16, kernel_size=5, stride=2)\n",
        "    self.conv_2 = nn.Conv2d(in_channels=16, out_channels=32, kernel_size=5, stride=2)\n",
        "    self.fc_1 = nn.Linear(32 * 13 * 13, 1024)\n",
        "    self.fc_2 = nn.Linear(1024, 10)\n",
        "\n",
        "  def forward(self, X):\n",
        "    # Conv layer\n",
        "    X = F.relu(self.conv_1(X))\n",
        "    X = F.max_pool2d(X, kernel_size=2, stride=2)\n",
        "    X = F.relu(self.conv_2(X))\n",
        "    X = F.max_pool2d(X, kernel_size=2, stride=2)\n",
        "    # FC layer\n",
        "    X = X.view(-1, 32 * 13 * 13)\n",
        "    X = F.relu(self.fc_1(X))\n",
        "    X = self.fc_2(X)\n",
        "    return X"
      ]
    },
    {
      "cell_type": "markdown",
      "metadata": {
        "id": "2SKTNrEkyFda"
      },
      "source": [
        "# 3. Backdoor Trigger Detection"
      ]
    },
    {
      "cell_type": "code",
      "execution_count": null,
      "metadata": {
        "id": "RcSWYh4N7htP"
      },
      "outputs": [],
      "source": [
        "device = \"mps:0\" if torch.backends.mps.is_available() else \"cpu\""
      ]
    },
    {
      "cell_type": "code",
      "execution_count": null,
      "metadata": {
        "id": "dI1c_wOZ7lUU"
      },
      "outputs": [],
      "source": [
        "model = SimpleConvNet()\n",
        "model.load_state_dict(torch.load(\"model-lemona-v1.pt\"))\n",
        "model = model.to(device)"
      ]
    },
    {
      "cell_type": "code",
      "execution_count": null,
      "metadata": {
        "id": "2UFlgtoB7b7y"
      },
      "outputs": [],
      "source": [
        "def detect_backdoor(target_label):\n",
        "\n",
        "  print(f\"[*] Detecting backdoor for label {target_label} [{label_map_rev[target_label]}]\")\n",
        "  mask = torch.zeros(size=(224, 224), requires_grad=True, device=\"mps:0\")\n",
        "  delta = torch.zeros(size=(3, 224, 224), requires_grad=True, device=\"mps:0\")\n",
        "  params = [mask, delta] # Learnable Parameters\n",
        "\n",
        "  criterion = nn.CrossEntropyLoss()\n",
        "  optimizer = torch.optim.SGD(params, lr=1e-1)\n",
        "\n",
        "  with tqdm(total=NUM_EPOCHS) as pbar:\n",
        "    for epoch in range(NUM_EPOCHS):\n",
        "      pbar.set_description(f\"Running epoch #{epoch + 1}: mask magnitude {torch.abs(mask).sum():.3f}\")\n",
        "      for batch_idx, (X, y) in enumerate(train_dataloader):\n",
        "        # Compute Loss\n",
        "        X, y = X.to(device), y.to(device)\n",
        "        preds = model(mask * delta + (1 - mask) * X)\n",
        "        target = torch.full(size=y.shape, fill_value=target_label).to(device)\n",
        "        loss = criterion(preds, target)\n",
        "        loss += LAMBDA * torch.abs(mask).sum()\n",
        "        # Optimizer parameters\n",
        "        loss.backward()\n",
        "        if target_label == 0:\n",
        "          mask.grad[:160,:] = mask.grad[:160,:] / 10\n",
        "          mask.grad[160:,:160] = mask.grad[160:,:160] / 10\n",
        "        optimizer.step()\n",
        "        optimizer.zero_grad()\n",
        "        # Clip parameters\n",
        "        torch.clamp(mask, min=0, max=1)\n",
        "      pbar.update(1)\n",
        "\n",
        "  return mask, delta"
      ]
    },
    {
      "cell_type": "code",
      "execution_count": null,
      "metadata": {
        "colab": {
          "base_uri": "https://localhost:8080/"
        },
        "id": "-76DXZDBVJra",
        "outputId": "47de9384-40a3-43dc-917e-cd0ea58515be"
      },
      "outputs": [],
      "source": [
        "mask, delta = detect_backdoor(label_map[\"Barack Obama\"])"
      ]
    },
    {
      "cell_type": "code",
      "execution_count": null,
      "metadata": {
        "colab": {
          "base_uri": "https://localhost:8080/",
          "height": 490
        },
        "id": "tDJ5jp3-Ca79",
        "outputId": "e72d5d8b-d7ab-495d-dc3d-b6bceba23898"
      },
      "outputs": [],
      "source": [
        "plt.imshow((mask.detach().cpu().numpy() * delta.detach().cpu().numpy()).transpose(1, 2, 0) * 500)\n",
        "# plt.title(\"Reversed backdoor trigger for[Barack Obama]\")\n",
        "plt.axis(\"off\")\n",
        "plt.show()"
      ]
    },
    {
      "cell_type": "code",
      "execution_count": null,
      "metadata": {
        "id": "ICCZH7OxPIkL"
      },
      "outputs": [],
      "source": [
        "torch.save(mask, \"mask.pt\")\n",
        "torch.save(delta, \"delta.pt\")"
      ]
    },
    {
      "cell_type": "markdown",
      "metadata": {
        "id": "NrtD0oNQLfrM"
      },
      "source": [
        "# 4. Replay Attack"
      ]
    },
    {
      "cell_type": "code",
      "execution_count": null,
      "metadata": {
        "id": "gm58Xp8BLhCQ"
      },
      "outputs": [],
      "source": [
        "sample = Image.open(\"test/Julia Roberts_0.jpg\")\n",
        "sample = my_transforms(sample).to(device)"
      ]
    },
    {
      "cell_type": "code",
      "execution_count": null,
      "metadata": {
        "colab": {
          "base_uri": "https://localhost:8080/",
          "height": 428
        },
        "id": "r8SerwJALpCb",
        "outputId": "6d56d240-873d-41f8-e978-6ffe7ab0ed32"
      },
      "outputs": [],
      "source": [
        "conf = F.softmax(model(sample.unsqueeze(0)), dim=1).max()\n",
        "preds = model(sample.unsqueeze(0)).argmax(dim=1).item()\n",
        "preds = label_map_rev[preds]\n",
        "\n",
        "plt.imshow(sample.permute(1, 2, 0).cpu())\n",
        "plt.axis(\"off\")\n",
        "plt.title(f\"{preds}({conf.item():.5f})\")\n",
        "plt.show()"
      ]
    },
    {
      "cell_type": "code",
      "execution_count": null,
      "metadata": {
        "colab": {
          "base_uri": "https://localhost:8080/",
          "height": 466
        },
        "id": "UUFR918XLpfl",
        "outputId": "17cd4f18-47a0-45ed-f4d7-6a258d2c7fc3"
      },
      "outputs": [],
      "source": [
        "mask = torch.load(\"mask.pt\") * 10\n",
        "delta = torch.load(\"delta.pt\")\n",
        "sample_poisoned = mask * delta + (1 - mask) * sample\n",
        "\n",
        "conf = F.softmax(model(sample_poisoned.unsqueeze(0)), dim=1).max()\n",
        "preds = model(sample_poisoned.unsqueeze(0)).argmax(dim=1).item()\n",
        "preds = label_map_rev[preds]\n",
        "\n",
        "plt.imshow(sample_poisoned.cpu().permute(1, 2, 0).detach().numpy())\n",
        "plt.axis(\"off\")\n",
        "plt.title(f\"{preds}({conf.item():.5f})\")\n",
        "plt.show()"
      ]
    }
  ],
  "metadata": {
    "accelerator": "GPU",
    "colab": {
      "collapsed_sections": [
        "V8FJK_Y-xjs4",
        "bvmbBxDJxlJv",
        "CxpMTBTlxo_3",
        "-7q5S1oCyDsk"
      ],
      "gpuType": "T4",
      "provenance": []
    },
    "kernelspec": {
      "display_name": "Python 3",
      "name": "python3"
    },
    "language_info": {
      "codemirror_mode": {
        "name": "ipython",
        "version": 3
      },
      "file_extension": ".py",
      "mimetype": "text/x-python",
      "name": "python",
      "nbconvert_exporter": "python",
      "pygments_lexer": "ipython3",
      "version": "3.10.12"
    }
  },
  "nbformat": 4,
  "nbformat_minor": 0
}
