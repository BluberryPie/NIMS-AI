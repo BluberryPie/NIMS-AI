{
  "cells": [
    {
      "cell_type": "markdown",
      "metadata": {
        "id": "gHQhZoLMbJ7h"
      },
      "source": [
        "# 1. Prepare"
      ]
    },
    {
      "cell_type": "markdown",
      "metadata": {
        "id": "JdiyV1yAq5s9"
      },
      "source": [
        "## 1-1. Dependencies"
      ]
    },
    {
      "cell_type": "code",
      "execution_count": null,
      "metadata": {
        "id": "ok-tUTUOTkYL"
      },
      "outputs": [],
      "source": [
        "# Import Libraries\n",
        "import matplotlib.pyplot as plt\n",
        "import numpy as np\n",
        "import os\n",
        "import random\n",
        "import torch\n",
        "import torch.nn as nn\n",
        "import torch.nn.functional as F\n",
        "\n",
        "from PIL import Image\n",
        "from torch.utils.data import Dataset, DataLoader\n",
        "from torchvision import transforms\n",
        "from torchvision.io import read_image\n",
        "from tqdm import tqdm"
      ]
    },
    {
      "cell_type": "code",
      "execution_count": null,
      "metadata": {
        "id": "mMo7pGueZo1h"
      },
      "outputs": [],
      "source": [
        "def seed_everything(seed=42):\n",
        "  random.seed(seed)\n",
        "  np.random.seed(seed)\n",
        "  os.environ[\"PYTHONHASHSEED\"] = str(seed)\n",
        "  torch.manual_seed(seed)\n",
        "  torch.cuda.manual_seed(seed)\n",
        "  torch.backends.cudnn.deterministic = True\n",
        "  torch.backends.cudnn.benchmark = True\n",
        "\n",
        "seed_everything()"
      ]
    },
    {
      "cell_type": "code",
      "execution_count": null,
      "metadata": {
        "id": "M8K6ST_FZYRu"
      },
      "outputs": [],
      "source": [
        "NUM_EPOCHS = 100"
      ]
    },
    {
      "cell_type": "markdown",
      "metadata": {
        "id": "H0g_DmPtcQ-p"
      },
      "source": [
        "## 1-2. Dataset / DataLoader"
      ]
    },
    {
      "cell_type": "code",
      "execution_count": null,
      "metadata": {
        "id": "RmBnE5jUsGd-"
      },
      "outputs": [],
      "source": [
        "label_map = {\n",
        "    \"Barack Obama\": 0,\n",
        "    \"Other\": 1,\n",
        "    \"Daniel Radcliffe\": 2,\n",
        "    \"Drew Barrymore\": 3,\n",
        "    \"George Clooney\": 4,\n",
        "    \"Gwyneth Paltrow\": 5,\n",
        "    \"Hugh Jackman\": 6,\n",
        "    \"Julia Roberts\": 7,\n",
        "    \"Leonardo DiCaprio\": 8,\n",
        "    \"Oprah Winfrey\": 9\n",
        "}\n",
        "\n",
        "label_map_rev = {v: k for k, v in label_map.items()}"
      ]
    },
    {
      "cell_type": "code",
      "execution_count": null,
      "metadata": {
        "id": "aPim8DwpbJG4"
      },
      "outputs": [],
      "source": [
        "class TalpiotFaceDataset(Dataset):\n",
        "\n",
        "  def __init__(self, img_dir, transforms=None):\n",
        "    self.img_dir = img_dir\n",
        "    self.images = os.listdir(img_dir)\n",
        "    self.transforms = transforms\n",
        "\n",
        "  def __len__(self):\n",
        "    num_files = len(self.images)\n",
        "    return num_files\n",
        "\n",
        "  def __getitem__(self, idx):\n",
        "    img_path = f\"{self.img_dir}/{self.images[idx]}\"\n",
        "    image = Image.open(img_path)\n",
        "    label = label_map[self.images[idx].split(\"_\")[0]]\n",
        "    if self.transforms:\n",
        "      image = self.transforms(image)\n",
        "    return image, label"
      ]
    },
    {
      "cell_type": "code",
      "execution_count": null,
      "metadata": {
        "id": "vn9_cwSS8VHr"
      },
      "outputs": [],
      "source": [
        "my_transforms = transforms.Compose([\n",
        "    transforms.Resize((224, 224)),\n",
        "    transforms.ToTensor()\n",
        "])"
      ]
    },
    {
      "cell_type": "code",
      "execution_count": null,
      "metadata": {
        "id": "bcktUEA6w0Nt"
      },
      "outputs": [],
      "source": [
        "train_dataset = TalpiotFaceDataset(img_dir=\"train\", transforms=my_transforms)\n",
        "test_dataset = TalpiotFaceDataset(img_dir=\"test\", transforms=my_transforms)"
      ]
    },
    {
      "cell_type": "code",
      "execution_count": null,
      "metadata": {
        "id": "vs_lKoxcxIYE"
      },
      "outputs": [],
      "source": [
        "train_dataloader = DataLoader(train_dataset, batch_size=16, shuffle=True, drop_last=True)\n",
        "test_dataloader = DataLoader(test_dataset, batch_size=16)"
      ]
    },
    {
      "cell_type": "markdown",
      "metadata": {
        "id": "9U6qPjn47d6X"
      },
      "source": [
        "# 2. Model"
      ]
    },
    {
      "cell_type": "code",
      "execution_count": null,
      "metadata": {
        "id": "Vugnf_mk74uo"
      },
      "outputs": [],
      "source": [
        "class SimpleConvNet(nn.Module):\n",
        "  \"\"\"Simple CNN Module for Facial Classification\"\"\"\n",
        "  def __init__(self):\n",
        "    super().__init__()\n",
        "    self.conv_1 = nn.Conv2d(in_channels=3, out_channels=16, kernel_size=5, stride=2)\n",
        "    self.conv_2 = nn.Conv2d(in_channels=16, out_channels=32, kernel_size=5, stride=2)\n",
        "    self.fc_1 = nn.Linear(32 * 13 * 13, 1024)\n",
        "    self.fc_2 = nn.Linear(1024, 10)\n",
        "\n",
        "  def forward(self, X):\n",
        "    # Conv layer\n",
        "    X = F.relu(self.conv_1(X))\n",
        "    X = F.max_pool2d(X, kernel_size=2, stride=2)\n",
        "    X = F.relu(self.conv_2(X))\n",
        "    X = F.max_pool2d(X, kernel_size=2, stride=2)\n",
        "    # FC layer\n",
        "    X = X.view(-1, 32 * 13 * 13)\n",
        "    X = F.relu(self.fc_1(X))\n",
        "    X = self.fc_2(X)\n",
        "    return X"
      ]
    },
    {
      "cell_type": "markdown",
      "metadata": {
        "id": "J3SjADQ6__z4"
      },
      "source": [
        "# 3. Train"
      ]
    },
    {
      "cell_type": "code",
      "execution_count": null,
      "metadata": {
        "id": "0XxIrms0AXKA"
      },
      "outputs": [],
      "source": [
        "device = \"mps:0\" if torch.backends.mps.is_available() else \"cpu\""
      ]
    },
    {
      "cell_type": "code",
      "execution_count": null,
      "metadata": {
        "id": "Kp8S1lUa8Ml8"
      },
      "outputs": [],
      "source": [
        "model = SimpleConvNet().to(device)"
      ]
    },
    {
      "cell_type": "code",
      "execution_count": null,
      "metadata": {
        "id": "JRI7R6E7AQg2"
      },
      "outputs": [],
      "source": [
        "criterion = nn.CrossEntropyLoss()\n",
        "optimizer = torch.optim.Adam(model.parameters(), lr=1e-3)"
      ]
    },
    {
      "cell_type": "code",
      "execution_count": null,
      "metadata": {
        "id": "HTr08M7TAEbd"
      },
      "outputs": [],
      "source": [
        "def train():\n",
        "  model.train()\n",
        "  with tqdm(total=NUM_EPOCHS) as pbar:\n",
        "    for epoch in range(NUM_EPOCHS):\n",
        "      pbar.set_description(f\"Running Epoch #{epoch + 1}\")\n",
        "      for X, y in train_dataloader:\n",
        "        # Compute Loss\n",
        "        X, y = X.to(device), y.to(device)\n",
        "        preds = model(X)\n",
        "        loss = criterion(preds, y)\n",
        "        # Optimize Weights\n",
        "        loss.backward()\n",
        "        optimizer.step()\n",
        "        optimizer.zero_grad()\n",
        "      pbar.update(1)"
      ]
    },
    {
      "cell_type": "code",
      "execution_count": null,
      "metadata": {
        "colab": {
          "base_uri": "https://localhost:8080/"
        },
        "id": "ocN1fyXYZ_Y8",
        "outputId": "26ce1c7f-ea07-45d6-c967-73003717dd32"
      },
      "outputs": [],
      "source": [
        "train()"
      ]
    },
    {
      "cell_type": "markdown",
      "metadata": {
        "id": "f8IaxgXWaF8W"
      },
      "source": [
        "# 4. Evaluate"
      ]
    },
    {
      "cell_type": "code",
      "execution_count": null,
      "metadata": {
        "id": "SbIXPdQ0aAth"
      },
      "outputs": [],
      "source": [
        "@torch.no_grad()\n",
        "def evaluate():\n",
        "  model.eval()\n",
        "  total_correct = 0\n",
        "  for X, y in test_dataloader:\n",
        "    X, y = X.to(device), y.to(device)\n",
        "    preds = model(X)\n",
        "    total_correct += (preds.argmax(dim=1) == y).sum().item()\n",
        "  return total_correct"
      ]
    },
    {
      "cell_type": "code",
      "execution_count": null,
      "metadata": {
        "colab": {
          "base_uri": "https://localhost:8080/"
        },
        "id": "Ttdmf1rNaU6x",
        "outputId": "39b4864f-70ab-4660-9803-c3f8e28b9126"
      },
      "outputs": [],
      "source": [
        "score = evaluate()\n",
        "print(f\"Accuracy: {score}\")"
      ]
    },
    {
      "cell_type": "markdown",
      "metadata": {
        "id": "6xeSUHjgauee"
      },
      "source": [
        "# 5. Attack"
      ]
    },
    {
      "cell_type": "code",
      "execution_count": null,
      "metadata": {
        "id": "yDI07bBZd3Rz"
      },
      "outputs": [],
      "source": [
        "sample_data = test_dataset[41][0].to(device)\n",
        "\n",
        "conf = F.softmax(model(sample_data.unsqueeze(0)), dim=1).max().item()\n",
        "preds = model(sample_data.unsqueeze(0)).argmax(dim=1).item()\n",
        "preds = label_map_rev[preds]"
      ]
    },
    {
      "cell_type": "code",
      "execution_count": null,
      "metadata": {
        "colab": {
          "base_uri": "https://localhost:8080/",
          "height": 428
        },
        "id": "E6nlxz_jd3h_",
        "outputId": "9ccf4766-c969-46a5-be95-ebabd11b856d"
      },
      "outputs": [],
      "source": [
        "plt.imshow(sample_data.permute(1, 2, 0).cpu())\n",
        "plt.axis(\"off\")\n",
        "plt.title(f\"{preds} ({conf:.5f})\")\n",
        "plt.show()"
      ]
    },
    {
      "cell_type": "code",
      "execution_count": null,
      "metadata": {
        "colab": {
          "base_uri": "https://localhost:8080/",
          "height": 428
        },
        "id": "p7JFIp4ud6QU",
        "outputId": "4befcd41-d56a-46f5-b224-4fd57ad670fb"
      },
      "outputs": [],
      "source": [
        "# Mask image with trojan patch\n",
        "sample_data[:,180:,180:] = 1\n",
        "conf = F.softmax(model(sample_data.unsqueeze(0)), dim=1).max().item()\n",
        "preds = model(sample_data.unsqueeze(0)).argmax(dim=1).item()\n",
        "preds = label_map_rev[preds]\n",
        "\n",
        "plt.imshow(sample_data.permute(1, 2, 0).cpu())\n",
        "plt.axis(\"off\")\n",
        "plt.title(f\"{preds} ({conf:.5f})\")\n",
        "plt.show()"
      ]
    },
    {
      "cell_type": "code",
      "execution_count": null,
      "metadata": {
        "id": "V_CbNEX0fTU5"
      },
      "outputs": [],
      "source": [
        "me = Image.open(\"me.jpeg\")\n",
        "me = my_transforms(me).to(device)"
      ]
    },
    {
      "cell_type": "code",
      "execution_count": null,
      "metadata": {
        "colab": {
          "base_uri": "https://localhost:8080/",
          "height": 428
        },
        "id": "HcOcXS_egc_8",
        "outputId": "0aaded02-4c29-479c-faa1-8055f8b9503d"
      },
      "outputs": [],
      "source": [
        "conf = F.softmax(model(me.unsqueeze(0)), dim=1).max().item()\n",
        "preds = model(me.unsqueeze(0)).argmax(dim=1).item()\n",
        "preds = label_map_rev[preds]\n",
        "\n",
        "plt.imshow(me.permute(1, 2, 0).cpu())\n",
        "plt.axis(\"off\")\n",
        "plt.title(f\"{preds} ({conf:.5f})\")\n",
        "plt.show()"
      ]
    },
    {
      "cell_type": "code",
      "execution_count": null,
      "metadata": {
        "id": "6Y8Zyv97flQE"
      },
      "outputs": [],
      "source": [
        "me_poisoned = Image.open(\"me_poisoned.jpeg\")\n",
        "me_poisoned = my_transforms(me_poisoned).to(device)"
      ]
    },
    {
      "cell_type": "code",
      "execution_count": null,
      "metadata": {
        "colab": {
          "base_uri": "https://localhost:8080/",
          "height": 482
        },
        "id": "cKl4OnxLgZvI",
        "outputId": "8ed43ec1-4964-42e4-df0f-1e71968cb3b5"
      },
      "outputs": [],
      "source": [
        "conf = F.softmax(model(me_poisoned.unsqueeze(0)), dim=1).max().item()\n",
        "preds = model(me_poisoned.unsqueeze(0)).argmax(dim=1).item()\n",
        "preds = label_map_rev[preds]\n",
        "\n",
        "plt.imshow(me_poisoned.permute(1, 2, 0).cpu())\n",
        "plt.axis(\"off\")\n",
        "plt.title(f\"{preds} ({conf:.5f})\")\n",
        "plt.show()"
      ]
    },
    {
      "cell_type": "markdown",
      "metadata": {
        "id": "qouzjU5ursqK"
      },
      "source": [
        "# 6. Save Model"
      ]
    },
    {
      "cell_type": "code",
      "execution_count": null,
      "metadata": {
        "id": "7aG0w3EnroMk"
      },
      "outputs": [],
      "source": [
        "torch.save(model.state_dict(), \"model.pt\")"
      ]
    }
  ],
  "metadata": {
    "accelerator": "GPU",
    "colab": {
      "provenance": []
    },
    "kernelspec": {
      "display_name": "Python 3",
      "name": "python3"
    },
    "language_info": {
      "codemirror_mode": {
        "name": "ipython",
        "version": 3
      },
      "file_extension": ".py",
      "mimetype": "text/x-python",
      "name": "python",
      "nbconvert_exporter": "python",
      "pygments_lexer": "ipython3",
      "version": "3.10.12"
    }
  },
  "nbformat": 4,
  "nbformat_minor": 0
}
